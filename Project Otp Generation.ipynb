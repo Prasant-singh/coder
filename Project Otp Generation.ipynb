{
 "cells": [
  {
   "cell_type": "code",
   "execution_count": 2,
   "id": "334f59f9",
   "metadata": {},
   "outputs": [],
   "source": [
    "import tkinter as tk\n",
    "from tkinter import *\n",
    "import random"
   ]
  },
  {
   "cell_type": "code",
   "execution_count": 3,
   "id": "e2079d21",
   "metadata": {},
   "outputs": [],
   "source": [
    "def box5():\n",
    "\n",
    "    root= tk.Tk()\n",
    "    root.geometry(\"200x200\")\n",
    "    root.title(\"StringVar Example\")\n",
    "\n",
    "    variable = tk.StringVar(root,\"verify \")\n",
    "\n",
    "    label = tk.Label(root, textvariable=variable, height=150)\n",
    "    label.pack()\n",
    "\n",
    "    root.mainloop()"
   ]
  },
  {
   "cell_type": "code",
   "execution_count": 4,
   "id": "c1368847",
   "metadata": {},
   "outputs": [],
   "source": [
    "def box6():\n",
    "\n",
    "    root= tk.Tk()\n",
    "    root.geometry(\"200x200\")\n",
    "    root.title(\"StringVar Example\")\n",
    "\n",
    "    variable = tk.StringVar(root,\"invalid otp  \")\n",
    "\n",
    "    label = tk.Label(root, textvariable=variable, height=150)\n",
    "    label.pack()\n",
    "\n",
    "    root.mainloop()"
   ]
  },
  {
   "cell_type": "code",
   "execution_count": 5,
   "id": "28f43de7",
   "metadata": {},
   "outputs": [],
   "source": [
    "def box0():\n",
    "    def task2():\n",
    "        var2=int(e1.get())\n",
    "        \n",
    "        if var2==a:\n",
    "            box5()\n",
    "        else:\n",
    "            box6()\n",
    "            \n",
    "            \n",
    "    \n",
    "    root=tk.Tk()\n",
    "    root.geometry(\"300x300\")\n",
    "    l1=tk.Label(root,text=\"OTP\").place(x=100,y=100)\n",
    "    e1=tk.Entry(root)\n",
    "    e1.place(x=150,y=100)\n",
    "    b1=tk.Button(root,text=\"verify\",command=task2).place(x=160,y=140)\n",
    "    root.mainloop()"
   ]
  },
  {
   "cell_type": "code",
   "execution_count": 6,
   "id": "58326526",
   "metadata": {},
   "outputs": [],
   "source": [
    "def box1():\n",
    "\n",
    "    root= tk.Tk()\n",
    "    root.geometry(\"300x300\")\n",
    "    root.title(\"StringVar Example\")\n",
    "    \n",
    "    variable = tk.StringVar(root,f\" your otp here:-{a}\")\n",
    "\n",
    "    label1 = tk.Label(root, textvariable=variable, height=150)\n",
    "    label1.pack()\n",
    "\n",
    "    \n",
    "    b1=tk.Button(root,text=\"Submit\",command=box0)\n",
    "    b1.place(x=140,y=180)\n",
    "    \n",
    "\n",
    "    root.mainloop()\n",
    "\n",
    "    "
   ]
  },
  {
   "cell_type": "code",
   "execution_count": 7,
   "id": "9a7b9035",
   "metadata": {},
   "outputs": [],
   "source": [
    "def box2():\n",
    "\n",
    "    root= tk.Tk()\n",
    "    root.geometry(\"200x200\")\n",
    "    root.title(\"StringVar Example\")\n",
    "\n",
    "    variable = tk.StringVar(root,\"length must be 10\")\n",
    "\n",
    "    label = tk.Label(root, textvariable=variable, height=150)\n",
    "    label.pack()\n",
    "\n",
    "    root.mainloop()"
   ]
  },
  {
   "cell_type": "code",
   "execution_count": 8,
   "id": "b8e3851b",
   "metadata": {},
   "outputs": [],
   "source": [
    "def mainbox():\n",
    "    \n",
    "    def task():\n",
    "        \n",
    "        \n",
    "        var1=e1.get()\n",
    "        if len(var1)==10:\n",
    "            box1()\n",
    "        else:\n",
    "            box2()\n",
    "    root=Tk()\n",
    "    root.title(\"mobile Verification\")\n",
    "    root.geometry(\"400x400\")\n",
    "    l1=tk.Label(root,text=\" MOB NO.\").place(x=100,y=100)\n",
    "    e1=tk.Entry(root)\n",
    "    e1.place(x=160,y=100)\n",
    "    b1=tk.Button(root,text=\"GEN OTP\",command=task).place(x=200,y=200)\n",
    "    root.mainloop()"
   ]
  },
  {
   "cell_type": "code",
   "execution_count": 9,
   "id": "da3abb59",
   "metadata": {},
   "outputs": [],
   "source": [
    "a=random.randint(1111,9999)\n",
    "mainbox()"
   ]
  },
  {
   "cell_type": "code",
   "execution_count": null,
   "id": "ab08ab62",
   "metadata": {},
   "outputs": [],
   "source": []
  },
  {
   "cell_type": "code",
   "execution_count": null,
   "id": "47abe483",
   "metadata": {},
   "outputs": [],
   "source": []
  }
 ],
 "metadata": {
  "kernelspec": {
   "display_name": "Python 3 (ipykernel)",
   "language": "python",
   "name": "python3"
  },
  "language_info": {
   "codemirror_mode": {
    "name": "ipython",
    "version": 3
   },
   "file_extension": ".py",
   "mimetype": "text/x-python",
   "name": "python",
   "nbconvert_exporter": "python",
   "pygments_lexer": "ipython3",
   "version": "3.10.9"
  }
 },
 "nbformat": 4,
 "nbformat_minor": 5
}
