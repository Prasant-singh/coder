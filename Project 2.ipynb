{
 "cells": [
  {
   "cell_type": "markdown",
   "id": "23353fcf",
   "metadata": {},
   "source": [
    "# Importing Libraries"
   ]
  },
  {
   "cell_type": "code",
   "execution_count": 1,
   "id": "0ef35340",
   "metadata": {},
   "outputs": [],
   "source": [
    "import tkinter as tk\n",
    "from tkinter import *\n",
    "import mysql.connector as ms\n"
   ]
  },
  {
   "cell_type": "markdown",
   "id": "a14ede49",
   "metadata": {},
   "source": [
    "# adding function for final output For DONOR"
   ]
  },
  {
   "cell_type": "code",
   "execution_count": 2,
   "id": "1897bc49",
   "metadata": {},
   "outputs": [],
   "source": [
    "def add_donor():\n",
    "    root=tk.Tk()\n",
    "    root.title(\"Donor \")\n",
    "    root.geometry(\"350x350\")\n",
    "    var=tk.StringVar(root,\"Donor has been Added successfully\")\n",
    "    \n",
    "    label=tk.Label(root,textvariable=var).pack()\n",
    "    "
   ]
  },
  {
   "cell_type": "code",
   "execution_count": 3,
   "id": "886d5df0",
   "metadata": {},
   "outputs": [],
   "source": [
    "def error_donor():\n",
    "    root=tk.Tk()\n",
    "    root.title(\"Donor \")\n",
    "    root.geometry(\"350x350\")\n",
    "    var=tk.StringVar(root,\"Sorry!! This Blood Group is not Availabe Right Now\")\n",
    "    \n",
    "    label=tk.Label(root,textvariable=var).pack()"
   ]
  },
  {
   "cell_type": "markdown",
   "id": "c5a082a0",
   "metadata": {},
   "source": [
    "# Adding function for final output For RECIEVER"
   ]
  },
  {
   "cell_type": "code",
   "execution_count": 4,
   "id": "041e6ded",
   "metadata": {},
   "outputs": [],
   "source": [
    "def donor_bp():\n",
    "    root=tk.Tk()\n",
    "    root.title(\"Blood Donor B+\")\n",
    "    root.geometry(\"350x350\")\n",
    "    data=ms.connect(host=\"localhost\",password=\"\", database=\"bloodbank\",user=\"root\")\n",
    "    mycursor=data.cursor()\n",
    "    mycursor.execute(\"select * from blood_donor\")\n",
    "    result=mycursor.fetchall()\n",
    "    for i in result:\n",
    "        var1=i\n",
    "        var=tk.StringVar(root,var1)\n",
    "        label=tk.Label(root,textvariable=var).pack()\n",
    "    root.mainloop()"
   ]
  },
  {
   "cell_type": "code",
   "execution_count": 5,
   "id": "8a9f1224",
   "metadata": {},
   "outputs": [],
   "source": [
    "def donor_ap():\n",
    "    root=tk.Tk()\n",
    "    root.title(\"Blood Donor A+\")\n",
    "    root.geometry(\"350x350\")\n",
    "    data=ms.connect(host=\"localhost\",password=\"\", database=\"bloodbank\",user=\"root\")\n",
    "    mycursor=data.cursor()\n",
    "    mycursor.execute(\"select * from donor_ap\")\n",
    "    result=mycursor.fetchall()\n",
    "    var=tk.StringVar(root,result)\n",
    "    label=tk.Label(root,textvariable=var).pack()\n",
    "    root.mainloop()"
   ]
  },
  {
   "cell_type": "code",
   "execution_count": 6,
   "id": "ce3e4928",
   "metadata": {},
   "outputs": [],
   "source": [
    "def donor_an():\n",
    "    root=tk.Tk()\n",
    "    root.title(\"Blood Donor A-\")\n",
    "    root.geometry(\"350x350\")\n",
    "    data=ms.connect(host=\"localhost\",password=\"\", database=\"bloodbank\",user=\"root\")\n",
    "    mycursor=data.cursor()\n",
    "    mycursor.execute(\"select * from donor_an\")\n",
    "    result=mycursor.fetchall()\n",
    "    var=tk.StringVar(root,result)\n",
    "    label=tk.Label(root,textvariable=var).pack()\n",
    "    root.mainloop()"
   ]
  },
  {
   "cell_type": "code",
   "execution_count": 7,
   "id": "fa3d130e",
   "metadata": {},
   "outputs": [],
   "source": [
    "def donor_op():\n",
    "    root=tk.Tk()\n",
    "    root.title(\"Blood Donor O+\")\n",
    "    root.geometry(\"350x350\")\n",
    "    data=ms.connect(host=\"localhost\",password=\"\", database=\"bloodbank\",user=\"root\")\n",
    "    mycursor=data.cursor()\n",
    "    mycursor.execute(\"select * from donor_op\")\n",
    "    result=mycursor.fetchall()\n",
    "    var=tk.StringVar(root,result,\"\\n\")\n",
    "    label=tk.Label(root,textvariable=var).pack()\n",
    "    root.mainloop()"
   ]
  },
  {
   "cell_type": "code",
   "execution_count": 8,
   "id": "6e27125c",
   "metadata": {},
   "outputs": [],
   "source": [
    "def donor_on():\n",
    "    root=tk.Tk()\n",
    "    root.title(\"Blood Donor O-\")\n",
    "    root.geometry(\"350x350\")\n",
    "    data=ms.connect(host=\"localhost\",password=\"\", database=\"bloodbank\",user=\"root\")\n",
    "    mycursor=data.cursor()\n",
    "    mycursor.execute(\"select * from donor_on\")\n",
    "    result=mycursor.fetchall()\n",
    "    var=tk.StringVar(root,result)\n",
    "    label=tk.Label(root,textvariable=var).pack()\n",
    "    root.mainloop()"
   ]
  },
  {
   "cell_type": "markdown",
   "id": "fd680c66",
   "metadata": {},
   "source": [
    "# Blood Donor"
   ]
  },
  {
   "cell_type": "code",
   "execution_count": 9,
   "id": "6b849dd7",
   "metadata": {},
   "outputs": [],
   "source": [
    "def donor():\n",
    "    def datafetch():\n",
    "        var1=first_name.get()\n",
    "        var2=last_name.get()\n",
    "        var3=blood.get()\n",
    "        var4=int(mobile.get())\n",
    "        data=ms.connect(host=\"localhost\",password=\"\", database=\"bloodbank\",user=\"root\")\n",
    "        mycursor=data.cursor()\n",
    "        mycursor.execute(\"select * from blood_donor\")\n",
    "        result=mycursor.fetchall()\n",
    "        if var3==\"B+\":\n",
    "            try:\n",
    "                query=(\"insert into blood_donor(first_name,last_name,mobile) values(%s,%s,%s)\")\n",
    "                value=(var1,var2,var4)\n",
    "                mycursor.execute(query,value)\n",
    "                data.commit()\n",
    "                add_donor()\n",
    "\n",
    "            except:\n",
    "                error_donor()\n",
    "# A+\n",
    "        elif var3==\"A+\":\n",
    "            try:\n",
    "                query=(\"insert into donor_ap(name,last_name,blood,mobile) values(%s,%s,%s)\")\n",
    "                value=(var1,var2,var4)\n",
    "                mycursor.execute(query,value)\n",
    "                data.commit()\n",
    "                add_donor()\n",
    "\n",
    "            except:\n",
    "                error_donor()\n",
    "# A-            \n",
    "        elif var3==\"A-\":\n",
    "            try:\n",
    "                query=(\"insert into donor_an(name,last_name,mobile) values(%s,%s,%s)\")\n",
    "                value=(var1,var2,var4)\n",
    "                mycursor.execute(query,value)\n",
    "                data.commit()\n",
    "                add_donor()\n",
    "\n",
    "            except:\n",
    "                error_donor()\n",
    "# O+\n",
    "        elif var3==\"O+\":\n",
    "            try:\n",
    "                query=(\"insert into donor_op(name,last_name,mobile) values(%s,%s,%s)\")\n",
    "                value=(var1,var2,var4)\n",
    "                mycursor.execute(query,value)\n",
    "                data.commit()\n",
    "                add_donor()\n",
    "\n",
    "            except:\n",
    "                error_donor()\n",
    "# O-\n",
    "        elif var3==\"O-\":\n",
    "            try:\n",
    "                query=(\"insert into donor_on(name,last_name,mobile) values(%s,%s,%s)\")\n",
    "                value=(var1,var2,var4)\n",
    "                mycursor.execute(query,value)\n",
    "                data.commit()\n",
    "                add_donor()\n",
    "\n",
    "            except:\n",
    "                error_donor()\n",
    "            \n",
    "            \n",
    "            \n",
    "\n",
    "        \n",
    "        \n",
    "        \n",
    "        \n",
    "    root=tk.Tk()\n",
    "    root.title(\"Blood Donor\")\n",
    "    root.geometry(\"350x350\")\n",
    "    \n",
    "    \n",
    "  # LABLES  \n",
    "    first_name=tk.Label(root,text=\"First Name\")\n",
    "    first_name.place(x=30,y=40)\n",
    "    last_name=tk.Label(root,text=\"Last Name\")\n",
    "    last_name.place(x=30,y=60)\n",
    "    blood=tk.Label(root,text=\"Blood Group\")\n",
    "    blood.place(x=30,y=80)\n",
    "    mobile=tk.Label(root,text=\"Mobile No.\")\n",
    "    mobile.place(x=30,y=100)\n",
    "    \n",
    "   # ENTRY\n",
    "    first_name=tk.Entry(root)\n",
    "    first_name.place(x=110,y=40)\n",
    "    last_name=tk.Entry(root)\n",
    "    last_name.place(x=110,y=60)\n",
    "    blood=tk.Entry(root)\n",
    "    blood.place(x=110,y=80)\n",
    "    mobile=tk.Entry(root)\n",
    "    mobile.place(x=110,y=100)\n",
    "    \n",
    "   # Button \n",
    "    btn=tk.Button(root,text=\"Submit\",bg=\"green\",command=datafetch)\n",
    "    btn.place(x=110,y=150)\n",
    "  \n",
    "\n",
    "    \n",
    "    root.mainloop()"
   ]
  },
  {
   "cell_type": "markdown",
   "id": "cd60fef4",
   "metadata": {},
   "source": [
    "# Blood Reciever\n"
   ]
  },
  {
   "cell_type": "code",
   "execution_count": 10,
   "id": "598bc522",
   "metadata": {},
   "outputs": [],
   "source": [
    "def reciever():\n",
    "\n",
    "    root=tk.Tk()\n",
    "    root.title(\"Blood Donor\")\n",
    "    root.geometry(\"350x350\")\n",
    "\n",
    "    label=tk.Label(root,text=\"Hi WELCOME TO THE BLOOD BANK\",bd=5).pack()\n",
    "    label=tk.Label(root,text=\"Check for the BLOOD GROUP present In BLOOD BANK\",bd=5).pack()\n",
    "\n",
    "# BUTTONS\n",
    "    btn=tk.Button(root,text=\"B+\",bg=\"yellow\",command=donor_bp)\n",
    "    btn.place(x=140,y=70)\n",
    "    btn=tk.Button(root,text=\"A+\",bg=\"Green\",command=donor_ap)\n",
    "    btn.place(x=140,y=100)\n",
    "    btn=tk.Button(root,text=\"A-\",bg=\"Blue\",command=donor_an)\n",
    "    btn.place(x=140,y=130)\n",
    "    btn=tk.Button(root,text=\"O+\",bg=\"skyblue\",command=donor_op)\n",
    "    btn.place(x=140,y=160)\n",
    "    btn=tk.Button(root,text=\"O-\",bg=\"orange\",command=donor_on)\n",
    "    btn.place(x=140,y=190)\n",
    "    \n",
    "\n",
    "    root.mainloop()"
   ]
  },
  {
   "cell_type": "markdown",
   "id": "d2755ca7",
   "metadata": {},
   "source": [
    "# Main InterFace\n"
   ]
  },
  {
   "cell_type": "code",
   "execution_count": 11,
   "id": "e0f440c2",
   "metadata": {},
   "outputs": [],
   "source": [
    "root=tk.Tk()\n",
    "root.title(\"Main Menu\")\n",
    "root.geometry(\"350x350\")\n",
    "\n",
    "login_button=Button(root,text=\"Blood Donor\",bg=\"skyblue\",fg=\"red\",command=donor)\n",
    "login_button.place(x=100,y=150)\n",
    "sign_button=Button(root,text=\"Blood Reciever\",bg=\"green\",fg=\"black\",command=reciever)\n",
    "sign_button.place(x=200,y=150)\n",
    "\n",
    "root.mainloop()"
   ]
  },
  {
   "cell_type": "code",
   "execution_count": null,
   "id": "03062ce4",
   "metadata": {},
   "outputs": [],
   "source": []
  },
  {
   "cell_type": "code",
   "execution_count": 12,
   "id": "c6969560",
   "metadata": {},
   "outputs": [],
   "source": []
  },
  {
   "cell_type": "code",
   "execution_count": null,
   "id": "7305cf1b",
   "metadata": {},
   "outputs": [],
   "source": []
  },
  {
   "cell_type": "code",
   "execution_count": null,
   "id": "84eaf2c2",
   "metadata": {},
   "outputs": [],
   "source": []
  }
 ],
 "metadata": {
  "kernelspec": {
   "display_name": "Python 3 (ipykernel)",
   "language": "python",
   "name": "python3"
  },
  "language_info": {
   "codemirror_mode": {
    "name": "ipython",
    "version": 3
   },
   "file_extension": ".py",
   "mimetype": "text/x-python",
   "name": "python",
   "nbconvert_exporter": "python",
   "pygments_lexer": "ipython3",
   "version": "3.10.9"
  }
 },
 "nbformat": 4,
 "nbformat_minor": 5
}
